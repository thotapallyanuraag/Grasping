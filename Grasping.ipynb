{
 "cells": [
  {
   "cell_type": "markdown",
   "id": "9aa8908e",
   "metadata": {},
   "source": [
    "\n",
    "# Grasp Detection using CNN on the Cornell Grasping Dataset\n",
    "\n",
    "**Author:** Anuraag Sharma Thotapally  \n",
    "This notebook demonstrates training a lightweight convolutional neural network (GGCNN)\n",
    "for predicting antipodal grasps from depth images, following the implementation at  \n",
    "[Grasping Repository](https://github.com/thotapallyanuraag/Grasping)\n"
   ]
  },
  {
   "cell_type": "code",
   "execution_count": null,
   "id": "f7171234",
   "metadata": {},
   "outputs": [],
   "source": [
    "#  Introduction\n",
    "\"\"\"\n",
    "Grasp Detection using CNN on the Cornell Grasping Dataset\n",
    "Author: Anuraag Sharma Thotapally\n",
    "This notebook demonstrates training a lightweight convolutional neural network (GGCNN)\n",
    "for predicting antipodal grasps from depth images, following the approach implemented in the repository:\n",
    "https://github.com/thotapallyanuraag/Grasping\n",
    "\"\"\""
   ]
  },
  {
   "cell_type": "code",
   "execution_count": null,
   "id": "dac72ec8",
   "metadata": {},
   "outputs": [],
   "source": [
    "\n",
    "# Clone the repository and install dependencies\n",
    "!git clone https://github.com/thotapallyanuraag/Grasping.git\n",
    "%cd Grasping\n",
    "!pip install -r requirements.txt\n"
   ]
  },
  {
   "cell_type": "code",
   "execution_count": null,
   "id": "6d6b5f9a",
   "metadata": {},
   "outputs": [],
   "source": [
    "# Download and extract the Cornell Grasping Dataset from here\n",
    "\"\"\"\n",
    "https://www.kaggle.com/datasets/oneoneliu/cornell-grasp/data\n",
    "\"\"\""
   ]
  },
  {
   "cell_type": "markdown",
   "id": "4efd34d1",
   "metadata": {},
   "source": [
    "\n",
    "## Dataset Preparation\n",
    "\n",
    "Please download the [Cornell Grasping Dataset](https://www.khoury.northeastern.edu/home/pmatran/data/)\n",
    "and place it inside the `Grasping/data/cornell` folder. Then, run the preprocessing script:\n"
   ]
  },
  {
   "cell_type": "code",
   "execution_count": null,
   "id": "f23923b5",
   "metadata": {},
   "outputs": [],
   "source": [
    "\n",
    "# Preprocess the dataset\n",
    "!mkdir -p data/cornell\n",
    "!python preprocess_fixed.py --dataset_path data/cornell\n"
   ]
  },
  {
   "cell_type": "markdown",
   "id": "85e07cf6",
   "metadata": {},
   "source": [
    "## Train the GGCNN Model"
   ]
  },
  {
   "cell_type": "code",
   "execution_count": null,
   "id": "c157582b",
   "metadata": {},
   "outputs": [],
   "source": [
    "# Train the model from scratch with specified parameters\n",
    "!python train_ggcnn.py \\\n",
    "    --dataset cornell \\\n",
    "    --dataset-path data/cornell-grasp \\\n",
    "    --network ggcnn \\\n",
    "    --description \"rgb+dep\" \\\n",
    "    --use-rgb 1 \\\n",
    "    --use-depth 1 \\\n",
    "    --split 0.9 \\\n",
    "    --batch-size 4 \\\n",
    "    --epochs 30 \\\n",
    "    --num-workers 4\n"
   ]
  },
  {
   "cell_type": "markdown",
   "id": "8f0ab1f6",
   "metadata": {},
   "source": [
    "## Visualize Training Loss"
   ]
  },
  {
   "cell_type": "markdown",
   "id": "d81ea30f",
   "metadata": {},
   "source": [
    "## Evaluate Trained Model"
   ]
  },
  {
   "cell_type": "code",
   "execution_count": null,
   "id": "796d3598",
   "metadata": {},
   "outputs": [],
   "source": [
    "# Evaluate the trained model using IOU. If using new trained models, change the belpw accordingly.\n",
    "!python eval_ggcnn.py \\\n",
    "    --network output/models/250513_1233_rgb+dep/epoch_13_iou_0.65_statedict.pt \\\n",
    "    --dataset cornell \\\n",
    "    --dataset-path data/cornell-grasp \\\n",
    "    --use-rgb 1 \\\n",
    "    --use-depth 1 \\\n",
    "    --split 0.9 \\\n",
    "    --num-workers 4 \\\n",
    "    --iou-eval \\\n",
    "    --vis\n"
   ]
  },
  {
   "cell_type": "code",
   "execution_count": null,
   "id": "9df8a095",
   "metadata": {},
   "outputs": [],
   "source": [
    "\n",
    "import matplotlib.pyplot as plt\n",
    "import pandas as pd\n",
    "\n",
    "# Adjust path based on actual log output\n",
    "log_path = \"output/models/training_log.csv\"\n",
    "\n",
    "try:\n",
    "    df = pd.read_csv(log_path)\n",
    "    plt.plot(df['epoch'], df['loss'], label='Train Loss')\n",
    "    plt.xlabel(\"Epoch\")\n",
    "    plt.ylabel(\"Loss\")\n",
    "    plt.title(\"Training Loss Over Epochs\")\n",
    "    plt.legend()\n",
    "    plt.grid()\n",
    "    plt.show()\n",
    "except Exception as e:\n",
    "    print(\"Could not load or plot training log:\", e)\n"
   ]
  },
  {
   "cell_type": "markdown",
   "id": "3841bec4",
   "metadata": {},
   "source": [
    "\n",
    "## Summary\n",
    "\n",
    "You have trained a GGCNN model from scratch using the Cornell Grasping Dataset.\n",
    "\n",
    "**Next Steps:**\n",
    "- Add evaluation using `eval_ggcnn.py`\n",
    "- Visualize grasp predictions on test images\n"
   ]
  }
 ],
 "metadata": {
  "language_info": {
   "name": "python"
  }
 },
 "nbformat": 4,
 "nbformat_minor": 5
}
